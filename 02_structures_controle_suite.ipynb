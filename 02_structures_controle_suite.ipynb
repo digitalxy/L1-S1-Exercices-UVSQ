{
 "cells": [
  {
   "cell_type": "markdown",
   "id": "0f68f509",
   "metadata": {},
   "source": [
    "**Exercice 1 :** Supposons que vous souhaitiez développer un programme permettant à un élève de première année de s'entraîner à la soustraction. Le programme génère de manière aléatoire deux entiers d'un seul chiffre, number1 et number2, avec number1 >= number2, et pose à l'élève une question telle que \"Quel est 9 - 2 ?\" Après que l'élève ait saisi la réponse, le programme affiche un message indiquant si elle est correcte. Ecrire un programme qui génère cinq questions et, après qu'un élève y ait répondu, rapporte le nombre de réponses correctes. Le programme affiche également le temps passé sur le test, comme le montre l'exécution d'exemple. Pour mesurer le temps, il faut importer la bibliothèque *Time* (exemple d'utilisation: temps_de_depart = time.time())."
   ]
  },
  {
   "cell_type": "code",
   "execution_count": 1,
   "id": "6211852e",
   "metadata": {},
   "outputs": [
    {
     "name": "stdout",
     "output_type": "stream",
     "text": [
      "Bienvenue à votre test de soustraction !\n",
      "Nombre de réponses correctes : 5/5\n",
      "Temps passé sur le test : 20.13 secondes\n"
     ]
    }
   ],
   "source": [
    "import random\n",
    "import time\n",
    "\n",
    "def generate_question():\n",
    "    number1 = random.randint(0, 9)\n",
    "    number2 = random.randint(0, number1)\n",
    "    return number1, number2\n",
    "\n",
    "def ask_question(number1, number2):\n",
    "    answer = int(input(f\"Quel est {number1} - {number2} ? \"))\n",
    "    return answer == (number1 - number2)\n",
    "\n",
    "def main():\n",
    "    correct_answers = 0\n",
    "    total_questions = 5\n",
    "    \n",
    "    print(\"Bienvenue à votre test de soustraction !\")\n",
    "    \n",
    "    start_time = time.time()\n",
    "    \n",
    "    for _ in range(total_questions):\n",
    "        num1, num2 = generate_question()\n",
    "        if ask_question(num1, num2):\n",
    "            correct_answers += 1\n",
    "    \n",
    "    end_time = time.time()\n",
    "    time_spent = end_time - start_time\n",
    "    \n",
    "    print(f\"Nombre de réponses correctes : {correct_answers}/{total_questions}\")\n",
    "    print(f\"Temps passé sur le test : {time_spent:.2f} secondes\")\n",
    "\n",
    "if __name__ == \"__main__\":\n",
    "    main()\n"
   ]
  },
  {
   "cell_type": "markdown",
   "id": "03509ef4",
   "metadata": {},
   "source": [
    "**Exercice 2 :**  L'exemple précédent exécute la boucle cinq fois. Si vous souhaitez que l'utilisateur décide s'il souhaite prendre une autre question, vous pouvez proposer une confirmation à l'utilisateur (en tapant 'Y' pour continuer)."
   ]
  },
  {
   "cell_type": "code",
   "execution_count": 2,
   "id": "1b568d44",
   "metadata": {},
   "outputs": [
    {
     "name": "stdout",
     "output_type": "stream",
     "text": [
      "Bienvenue à votre test de soustraction !\n",
      "Nombre de réponses correctes : 1/1\n",
      "Temps passé sur le test : 14.64 secondes\n"
     ]
    }
   ],
   "source": [
    "import random\n",
    "import time\n",
    "\n",
    "def generate_question():\n",
    "    number1 = random.randint(0, 9)\n",
    "    number2 = random.randint(0, number1)\n",
    "    return number1, number2\n",
    "\n",
    "def ask_question(number1, number2):\n",
    "    answer = int(input(f\"Quel est {number1} - {number2} ? \"))\n",
    "    return answer == (number1 - number2)\n",
    "\n",
    "def main():\n",
    "    correct_answers = 0\n",
    "    total_questions = 0\n",
    "    \n",
    "    print(\"Bienvenue à votre test de soustraction !\")\n",
    "    \n",
    "    start_time = time.time()\n",
    "    \n",
    "    while True:\n",
    "        num1, num2 = generate_question()\n",
    "        if ask_question(num1, num2):\n",
    "            correct_answers += 1\n",
    "        total_questions += 1\n",
    "        \n",
    "        cont = input(\"Voulez-vous répondre à une autre question ? Tapez 'Y' pour continuer ou tout autre texte pour arrêter : \")\n",
    "        if cont.lower() != 'y':\n",
    "            break\n",
    "    \n",
    "    end_time = time.time()\n",
    "    time_spent = end_time - start_time\n",
    "    \n",
    "    print(f\"Nombre de réponses correctes : {correct_answers}/{total_questions}\")\n",
    "    print(f\"Temps passé sur le test : {time_spent:.2f} secondes\")\n",
    "\n",
    "if __name__ == \"__main__\":\n",
    "    main()\n"
   ]
  },
  {
   "cell_type": "markdown",
   "id": "9535fb00",
   "metadata": {},
   "source": [
    "**Exercice 3 :**  (Trouver les nombres divisibles par 5 et 6) Écrivez un programme qui affiche, dix nombres par ligne, tous les nombres de 100 à 1 000 qui sont divisibles par 5 et 6. Les nombres sont séparés par exactement un espace."
   ]
  },
  {
   "cell_type": "code",
   "execution_count": 3,
   "id": "8a8b97fa",
   "metadata": {},
   "outputs": [
    {
     "name": "stdout",
     "output_type": "stream",
     "text": [
      "120 150 180 210 240 270 300 330 360 390\n",
      "420 450 480 510 540 570 600 630 660 690\n",
      "720 750 780 810 840 870 900 930 960 990\n"
     ]
    }
   ],
   "source": [
    "def find_divisibles(start, end, div1, div2):\n",
    "    return [number for number in range(start, end + 1) if number % div1 == 0 and number % div2 == 0]\n",
    "\n",
    "def main():\n",
    "    divisibles = find_divisibles(100, 1000, 5, 6)\n",
    "    for i in range(0, len(divisibles), 10):\n",
    "        line = ' '.join(str(num) for num in divisibles[i:i + 10])\n",
    "        print(line)\n",
    "        \n",
    "if __name__ == \"__main__\":\n",
    "    main()\n"
   ]
  },
  {
   "cell_type": "markdown",
   "id": "1f3d3536",
   "metadata": {},
   "source": [
    "**Exercice 4 :**  Écrivez un programme qui joue au populaire jeu ciseaux-pierre-papier. (Un ciseau peut couper du papier, une pierre peut écraser un ciseau, et du papier peut envelopper une pierre.) Le programme génère aléatoirement un nombre 0, 1 ou 2, représentant respectivement ciseaux, pierre et papier. Ensuite, le programme demande à l'utilisateur d'entrer un nombre 0, 1 ou 2, puis affiche un message indiquant si l'utilisateur gagne, perd ou obtient un match nul par rapport à l'ordinateur. Le programme  permet à l'utilisateur de jouer en continu jusqu'à ce que l'utilisateur ou l'ordinateur gagne plus de deux fois."
   ]
  },
  {
   "cell_type": "code",
   "execution_count": 5,
   "id": "463e2c05",
   "metadata": {},
   "outputs": [
    {
     "name": "stdout",
     "output_type": "stream",
     "text": [
      "Computer wins this round!\n",
      "You chose Rock, computer chose Paper.\n",
      "Current score - You: 0, Computer: 1\n",
      "You win this round!\n",
      "You chose Paper, computer chose Rock.\n",
      "Current score - You: 1, Computer: 1\n",
      "Computer wins this round!\n"
     ]
    },
    {
     "ename": "IndexError",
     "evalue": "list index out of range",
     "output_type": "error",
     "traceback": [
      "\u001b[1;31m---------------------------------------------------------------------------\u001b[0m",
      "\u001b[1;31mIndexError\u001b[0m                                Traceback (most recent call last)",
      "Cell \u001b[1;32mIn[5], line 47\u001b[0m\n\u001b[0;32m     44\u001b[0m         \u001b[38;5;28mprint\u001b[39m(\u001b[38;5;124m\"\u001b[39m\u001b[38;5;124mOh no! The computer won the game!\u001b[39m\u001b[38;5;124m\"\u001b[39m)\n\u001b[0;32m     46\u001b[0m \u001b[38;5;28;01mif\u001b[39;00m \u001b[38;5;18m__name__\u001b[39m \u001b[38;5;241m==\u001b[39m \u001b[38;5;124m\"\u001b[39m\u001b[38;5;124m__main__\u001b[39m\u001b[38;5;124m\"\u001b[39m:\n\u001b[1;32m---> 47\u001b[0m     \u001b[43mmain\u001b[49m\u001b[43m(\u001b[49m\u001b[43m)\u001b[49m\n",
      "Cell \u001b[1;32mIn[5], line 38\u001b[0m, in \u001b[0;36mmain\u001b[1;34m()\u001b[0m\n\u001b[0;32m     35\u001b[0m     \u001b[38;5;28;01melse\u001b[39;00m:\n\u001b[0;32m     36\u001b[0m         \u001b[38;5;28mprint\u001b[39m(\u001b[38;5;124m\"\u001b[39m\u001b[38;5;124mIt\u001b[39m\u001b[38;5;124m'\u001b[39m\u001b[38;5;124ms a draw!\u001b[39m\u001b[38;5;124m\"\u001b[39m)\n\u001b[1;32m---> 38\u001b[0m     \u001b[38;5;28mprint\u001b[39m(\u001b[38;5;124mf\u001b[39m\u001b[38;5;124m\"\u001b[39m\u001b[38;5;124mYou chose \u001b[39m\u001b[38;5;132;01m{\u001b[39;00m\u001b[43mchoices\u001b[49m\u001b[43m[\u001b[49m\u001b[43muser_choice\u001b[49m\u001b[43m]\u001b[49m\u001b[38;5;132;01m}\u001b[39;00m\u001b[38;5;124m, computer chose \u001b[39m\u001b[38;5;132;01m{\u001b[39;00mchoices[computer_choice]\u001b[38;5;132;01m}\u001b[39;00m\u001b[38;5;124m.\u001b[39m\u001b[38;5;124m\"\u001b[39m)\n\u001b[0;32m     39\u001b[0m     \u001b[38;5;28mprint\u001b[39m(\u001b[38;5;124mf\u001b[39m\u001b[38;5;124m\"\u001b[39m\u001b[38;5;124mCurrent score - You: \u001b[39m\u001b[38;5;132;01m{\u001b[39;00mwins_user\u001b[38;5;132;01m}\u001b[39;00m\u001b[38;5;124m, Computer: \u001b[39m\u001b[38;5;132;01m{\u001b[39;00mwins_computer\u001b[38;5;132;01m}\u001b[39;00m\u001b[38;5;124m\"\u001b[39m)\n\u001b[0;32m     41\u001b[0m \u001b[38;5;28;01mif\u001b[39;00m wins_user \u001b[38;5;241m==\u001b[39m \u001b[38;5;241m3\u001b[39m:\n",
      "\u001b[1;31mIndexError\u001b[0m: list index out of range"
     ]
    }
   ],
   "source": [
    "import random\n",
    "\n",
    "def get_computer_choice():\n",
    "    return random.randint(0, 2)\n",
    "\n",
    "def get_user_choice():\n",
    "    return int(input(\"Enter 0 for Scissors, 1 for Rock, 2 for Paper: \"))\n",
    "\n",
    "def determine_winner(user, computer):\n",
    "    if user == computer:\n",
    "        return \"draw\"\n",
    "    elif (user == 0 and computer == 2) or (user == 1 and computer == 0) or (user == 2 and computer == 1):\n",
    "        return \"user\"\n",
    "    else:\n",
    "        return \"computer\"\n",
    "\n",
    "def main():\n",
    "    wins_user = 0\n",
    "    wins_computer = 0\n",
    "    \n",
    "    choices = [\"Scissors\", \"Rock\", \"Paper\"]\n",
    "    \n",
    "    while wins_user < 3 and wins_computer < 3:\n",
    "        user_choice = get_user_choice()\n",
    "        computer_choice = get_computer_choice()\n",
    "        \n",
    "        result = determine_winner(user_choice, computer_choice)\n",
    "        \n",
    "        if result == \"user\":\n",
    "            wins_user += 1\n",
    "            print(\"You win this round!\")\n",
    "        elif result == \"computer\":\n",
    "            wins_computer += 1\n",
    "            print(\"Computer wins this round!\")\n",
    "        else:\n",
    "            print(\"It's a draw!\")\n",
    "        \n",
    "        print(f\"You chose {choices[user_choice]}, computer chose {choices[computer_choice]}.\")\n",
    "        print(f\"Current score - You: {wins_user}, Computer: {wins_computer}\")\n",
    "    \n",
    "    if wins_user == 3:\n",
    "        print(\"Congratulations! You won the game!\")\n",
    "    else:\n",
    "        print(\"Oh no! The computer won the game!\")\n",
    "\n",
    "if __name__ == \"__main__\":\n",
    "    main()"
   ]
  },
  {
   "cell_type": "markdown",
   "id": "e5aa5e9e",
   "metadata": {},
   "source": [
    "**Exercice 5 :** Écrivez un programme pour vérifier la validité des mots de passe saisis par les utilisateurs.\n",
    "\n",
    "    -Au moins 1 lettre entre [a-z] et 1 lettre entre [A-Z].\n",
    "    -Au moins 1 chiffre entre [0-9].\n",
    "    -Au moins 1 caractère parmi [$#@].\n",
    "    -Longueur minimale de 6 caractères.\n",
    "    -Longueur maximale de 16 caractères.\n",
    "    \n",
    "La fonction *re.search()* du module *re* en Python est utilisée pour rechercher un motif (expression régulière) dans une chaîne de caractères. Voici la syntaxe simplifiée de re.search() : re.search(pattern, string)\n",
    "\n",
    "    -pattern : C'est le motif (expression régulière) que vous souhaitez rechercher dans la chaîne de caractères.\n",
    "    -string : C'est la chaîne de caractères dans laquelle vous souhaitez effectuer la recherche.\n",
    "    \n",
    "La fonction re.search() renvoie un objet de correspondance (match object) si le motif est trouvé dans la chaîne de caractères. Si le motif n'est pas trouvé, elle renvoie None.    "
   ]
  },
  {
   "cell_type": "code",
   "execution_count": 6,
   "id": "1cf672d7",
   "metadata": {},
   "outputs": [
    {
     "name": "stdout",
     "output_type": "stream",
     "text": [
      "Password is invalid.\n"
     ]
    }
   ],
   "source": [
    "import re\n",
    "\n",
    "def validate_password(password):\n",
    "    if (len(password) < 6 or len(password) > 16):\n",
    "        return False\n",
    "    if not re.search(\"[a-z]\", password):\n",
    "        return False\n",
    "    if not re.search(\"[A-Z]\", password):\n",
    "        return False\n",
    "    if not re.search(\"[0-9]\", password):\n",
    "        return False\n",
    "    if not re.search(\"[$#@]\", password):\n",
    "        return False\n",
    "    return True\n",
    "\n",
    "def main():\n",
    "    password = input(\"Enter a password to validate: \")\n",
    "    if validate_password(password):\n",
    "        print(\"Password is valid.\")\n",
    "    else:\n",
    "        print(\"Password is invalid.\")\n",
    "\n",
    "if __name__ == \"__main__\":\n",
    "    main()\n"
   ]
  }
 ],
 "metadata": {
  "kernelspec": {
   "display_name": "Python 3",
   "language": "python",
   "name": "python3"
  },
  "language_info": {
   "codemirror_mode": {
    "name": "ipython",
    "version": 3
   },
   "file_extension": ".py",
   "mimetype": "text/x-python",
   "name": "python",
   "nbconvert_exporter": "python",
   "pygments_lexer": "ipython3",
   "version": "3.13.1"
  }
 },
 "nbformat": 4,
 "nbformat_minor": 5
}
